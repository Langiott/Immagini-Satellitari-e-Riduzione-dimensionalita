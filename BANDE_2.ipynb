{
 "cells": [
  {
   "cell_type": "code",
   "execution_count": 1,
   "id": "9228fa5f-5137-42ed-bbe9-619af8c70742",
   "metadata": {},
   "outputs": [
    {
     "data": {
      "text/html": [
       "'C:/Users/PC/A_Progetto1/TIMES_SERIE_BANDE/Bande'"
      ],
      "text/latex": [
       "'C:/Users/PC/A\\_Progetto1/TIMES\\_SERIE\\_BANDE/Bande'"
      ],
      "text/markdown": [
       "'C:/Users/PC/A_Progetto1/TIMES_SERIE_BANDE/Bande'"
      ],
      "text/plain": [
       "[1] \"C:/Users/PC/A_Progetto1/TIMES_SERIE_BANDE/Bande\""
      ]
     },
     "metadata": {},
     "output_type": "display_data"
    }
   ],
   "source": [
    "getwd()\n",
    "setwd(choose.dir())"
   ]
  },
  {
   "cell_type": "code",
   "execution_count": 2,
   "id": "e9d0c4df-373f-4b16-ab95-1897f1830289",
   "metadata": {},
   "outputs": [
    {
     "data": {
      "text/html": [
       "<style>\n",
       ".list-inline {list-style: none; margin:0; padding: 0}\n",
       ".list-inline>li {display: inline-block}\n",
       ".list-inline>li:not(:last-child)::after {content: \"\\00b7\"; padding: 0 .5ex}\n",
       "</style>\n",
       "<ol class=list-inline><li>'S2coas_20170421.tif'</li><li>'S2coas_20170501.tif'</li><li>'S2coas_20170531.tif'</li><li>'S2coas_20170620.tif'</li><li>'S2coas_20170710.tif'</li><li>'S2coas_20170720.tif'</li><li>'S2coas_20170730.tif'</li><li>'S2coas_20170809.tif'</li><li>'S2coas_20170819.tif'</li><li>'S2coas_20170829.tif'</li><li>'S2coas_20170918.tif'</li><li>'S2coas_20171008.tif'</li><li>'S2coas_20171018.tif'</li><li>'S2coas_20171028.tif'</li><li>'S2coas_20171127.tif'</li><li>'S2coas_20171207.tif'</li><li>'S2coas_20171222.tif'</li><li>'S2coas_20180121.tif'</li><li>'S2coas_20180215.tif'</li><li>'S2coas_20180406.tif'</li><li>'S2coas_20180421.tif'</li><li>'S2coas_20180426.tif'</li><li>'S2coas_20180516.tif'</li><li>'S2coas_20180521.tif'</li><li>'S2coas_20180526.tif'</li><li>'S2coas_20180531.tif'</li><li>'S2coas_20180610.tif'</li><li>'S2coas_20180615.tif'</li><li>'S2coas_20180620.tif'</li><li>'S2coas_20180630.tif'</li><li>'S2coas_20180705.tif'</li><li>'S2coas_20180710.tif'</li><li>'S2coas_20180715.tif'</li><li>'S2coas_20180720.tif'</li><li>'S2coas_20180725.tif'</li><li>'S2coas_20180730.tif'</li><li>'S2coas_20180804.tif'</li><li>'S2coas_20180809.tif'</li><li>'S2coas_20180819.tif'</li><li>'S2coas_20180824.tif'</li><li>'S2coas_20180829.tif'</li><li>'S2coas_20180903.tif'</li><li>'S2coas_20180908.tif'</li><li>'S2coas_20180918.tif'</li><li>'S2coas_20180923.tif'</li><li>'S2coas_20180928.tif'</li><li>'S2coas_20181003.tif'</li><li>'S2coas_20181013.tif'</li><li>'S2coas_20181023.tif'</li><li>'S2coas_20181112.tif'</li><li>'S2coas_20181117.tif'</li><li>'S2coas_20181207.tif'</li><li>'S2coas_20181212.tif'</li><li>'S2coas_20181227.tif'</li><li>'S2coas_20190126.tif'</li><li>'S2coas_20190131.tif'</li><li>'S2coas_20190215.tif'</li><li>'S2coas_20190220.tif'</li><li>'S2coas_20190225.tif'</li><li>'S2coas_20190302.tif'</li><li>'S2coas_20190312.tif'</li><li>'S2coas_20190317.tif'</li><li>'S2coas_20190322.tif'</li><li>'S2coas_20190401.tif'</li><li>'S2coas_20190416.tif'</li><li>'S2coas_20190531.tif'</li><li>'S2coas_20190605.tif'</li><li>'S2coas_20190615.tif'</li><li>'S2coas_20190625.tif'</li><li>'S2coas_20190630.tif'</li><li>'S2coas_20190705.tif'</li><li>'S2coas_20190720.tif'</li><li>'S2coas_20190725.tif'</li><li>'S2coas_20190730.tif'</li><li>'S2coas_20190804.tif'</li><li>'S2coas_20190809.tif'</li><li>'S2coas_20190819.tif'</li><li>'S2coas_20190824.tif'</li><li>'S2coas_20190829.tif'</li><li>'S2coas_20190908.tif'</li><li>'S2coas_20190913.tif'</li><li>'S2coas_20190918.tif'</li><li>'S2coas_20191008.tif'</li><li>'S2coas_20191107.tif'</li><li>'S2coas_20191207.tif'</li><li>'S2coas_20200101.tif'</li><li>'S2coas_20200121.tif'</li><li>'S2coas_20200215.tif'</li><li>'S2coas_20200220.tif'</li><li>'S2coas_20200306.tif'</li><li>'S2coas_20200311.tif'</li><li>'S2coas_20200316.tif'</li><li>'S2coas_20200321.tif'</li></ol>\n"
      ],
      "text/latex": [
       "\\begin{enumerate*}\n",
       "\\item 'S2coas\\_20170421.tif'\n",
       "\\item 'S2coas\\_20170501.tif'\n",
       "\\item 'S2coas\\_20170531.tif'\n",
       "\\item 'S2coas\\_20170620.tif'\n",
       "\\item 'S2coas\\_20170710.tif'\n",
       "\\item 'S2coas\\_20170720.tif'\n",
       "\\item 'S2coas\\_20170730.tif'\n",
       "\\item 'S2coas\\_20170809.tif'\n",
       "\\item 'S2coas\\_20170819.tif'\n",
       "\\item 'S2coas\\_20170829.tif'\n",
       "\\item 'S2coas\\_20170918.tif'\n",
       "\\item 'S2coas\\_20171008.tif'\n",
       "\\item 'S2coas\\_20171018.tif'\n",
       "\\item 'S2coas\\_20171028.tif'\n",
       "\\item 'S2coas\\_20171127.tif'\n",
       "\\item 'S2coas\\_20171207.tif'\n",
       "\\item 'S2coas\\_20171222.tif'\n",
       "\\item 'S2coas\\_20180121.tif'\n",
       "\\item 'S2coas\\_20180215.tif'\n",
       "\\item 'S2coas\\_20180406.tif'\n",
       "\\item 'S2coas\\_20180421.tif'\n",
       "\\item 'S2coas\\_20180426.tif'\n",
       "\\item 'S2coas\\_20180516.tif'\n",
       "\\item 'S2coas\\_20180521.tif'\n",
       "\\item 'S2coas\\_20180526.tif'\n",
       "\\item 'S2coas\\_20180531.tif'\n",
       "\\item 'S2coas\\_20180610.tif'\n",
       "\\item 'S2coas\\_20180615.tif'\n",
       "\\item 'S2coas\\_20180620.tif'\n",
       "\\item 'S2coas\\_20180630.tif'\n",
       "\\item 'S2coas\\_20180705.tif'\n",
       "\\item 'S2coas\\_20180710.tif'\n",
       "\\item 'S2coas\\_20180715.tif'\n",
       "\\item 'S2coas\\_20180720.tif'\n",
       "\\item 'S2coas\\_20180725.tif'\n",
       "\\item 'S2coas\\_20180730.tif'\n",
       "\\item 'S2coas\\_20180804.tif'\n",
       "\\item 'S2coas\\_20180809.tif'\n",
       "\\item 'S2coas\\_20180819.tif'\n",
       "\\item 'S2coas\\_20180824.tif'\n",
       "\\item 'S2coas\\_20180829.tif'\n",
       "\\item 'S2coas\\_20180903.tif'\n",
       "\\item 'S2coas\\_20180908.tif'\n",
       "\\item 'S2coas\\_20180918.tif'\n",
       "\\item 'S2coas\\_20180923.tif'\n",
       "\\item 'S2coas\\_20180928.tif'\n",
       "\\item 'S2coas\\_20181003.tif'\n",
       "\\item 'S2coas\\_20181013.tif'\n",
       "\\item 'S2coas\\_20181023.tif'\n",
       "\\item 'S2coas\\_20181112.tif'\n",
       "\\item 'S2coas\\_20181117.tif'\n",
       "\\item 'S2coas\\_20181207.tif'\n",
       "\\item 'S2coas\\_20181212.tif'\n",
       "\\item 'S2coas\\_20181227.tif'\n",
       "\\item 'S2coas\\_20190126.tif'\n",
       "\\item 'S2coas\\_20190131.tif'\n",
       "\\item 'S2coas\\_20190215.tif'\n",
       "\\item 'S2coas\\_20190220.tif'\n",
       "\\item 'S2coas\\_20190225.tif'\n",
       "\\item 'S2coas\\_20190302.tif'\n",
       "\\item 'S2coas\\_20190312.tif'\n",
       "\\item 'S2coas\\_20190317.tif'\n",
       "\\item 'S2coas\\_20190322.tif'\n",
       "\\item 'S2coas\\_20190401.tif'\n",
       "\\item 'S2coas\\_20190416.tif'\n",
       "\\item 'S2coas\\_20190531.tif'\n",
       "\\item 'S2coas\\_20190605.tif'\n",
       "\\item 'S2coas\\_20190615.tif'\n",
       "\\item 'S2coas\\_20190625.tif'\n",
       "\\item 'S2coas\\_20190630.tif'\n",
       "\\item 'S2coas\\_20190705.tif'\n",
       "\\item 'S2coas\\_20190720.tif'\n",
       "\\item 'S2coas\\_20190725.tif'\n",
       "\\item 'S2coas\\_20190730.tif'\n",
       "\\item 'S2coas\\_20190804.tif'\n",
       "\\item 'S2coas\\_20190809.tif'\n",
       "\\item 'S2coas\\_20190819.tif'\n",
       "\\item 'S2coas\\_20190824.tif'\n",
       "\\item 'S2coas\\_20190829.tif'\n",
       "\\item 'S2coas\\_20190908.tif'\n",
       "\\item 'S2coas\\_20190913.tif'\n",
       "\\item 'S2coas\\_20190918.tif'\n",
       "\\item 'S2coas\\_20191008.tif'\n",
       "\\item 'S2coas\\_20191107.tif'\n",
       "\\item 'S2coas\\_20191207.tif'\n",
       "\\item 'S2coas\\_20200101.tif'\n",
       "\\item 'S2coas\\_20200121.tif'\n",
       "\\item 'S2coas\\_20200215.tif'\n",
       "\\item 'S2coas\\_20200220.tif'\n",
       "\\item 'S2coas\\_20200306.tif'\n",
       "\\item 'S2coas\\_20200311.tif'\n",
       "\\item 'S2coas\\_20200316.tif'\n",
       "\\item 'S2coas\\_20200321.tif'\n",
       "\\end{enumerate*}\n"
      ],
      "text/markdown": [
       "1. 'S2coas_20170421.tif'\n",
       "2. 'S2coas_20170501.tif'\n",
       "3. 'S2coas_20170531.tif'\n",
       "4. 'S2coas_20170620.tif'\n",
       "5. 'S2coas_20170710.tif'\n",
       "6. 'S2coas_20170720.tif'\n",
       "7. 'S2coas_20170730.tif'\n",
       "8. 'S2coas_20170809.tif'\n",
       "9. 'S2coas_20170819.tif'\n",
       "10. 'S2coas_20170829.tif'\n",
       "11. 'S2coas_20170918.tif'\n",
       "12. 'S2coas_20171008.tif'\n",
       "13. 'S2coas_20171018.tif'\n",
       "14. 'S2coas_20171028.tif'\n",
       "15. 'S2coas_20171127.tif'\n",
       "16. 'S2coas_20171207.tif'\n",
       "17. 'S2coas_20171222.tif'\n",
       "18. 'S2coas_20180121.tif'\n",
       "19. 'S2coas_20180215.tif'\n",
       "20. 'S2coas_20180406.tif'\n",
       "21. 'S2coas_20180421.tif'\n",
       "22. 'S2coas_20180426.tif'\n",
       "23. 'S2coas_20180516.tif'\n",
       "24. 'S2coas_20180521.tif'\n",
       "25. 'S2coas_20180526.tif'\n",
       "26. 'S2coas_20180531.tif'\n",
       "27. 'S2coas_20180610.tif'\n",
       "28. 'S2coas_20180615.tif'\n",
       "29. 'S2coas_20180620.tif'\n",
       "30. 'S2coas_20180630.tif'\n",
       "31. 'S2coas_20180705.tif'\n",
       "32. 'S2coas_20180710.tif'\n",
       "33. 'S2coas_20180715.tif'\n",
       "34. 'S2coas_20180720.tif'\n",
       "35. 'S2coas_20180725.tif'\n",
       "36. 'S2coas_20180730.tif'\n",
       "37. 'S2coas_20180804.tif'\n",
       "38. 'S2coas_20180809.tif'\n",
       "39. 'S2coas_20180819.tif'\n",
       "40. 'S2coas_20180824.tif'\n",
       "41. 'S2coas_20180829.tif'\n",
       "42. 'S2coas_20180903.tif'\n",
       "43. 'S2coas_20180908.tif'\n",
       "44. 'S2coas_20180918.tif'\n",
       "45. 'S2coas_20180923.tif'\n",
       "46. 'S2coas_20180928.tif'\n",
       "47. 'S2coas_20181003.tif'\n",
       "48. 'S2coas_20181013.tif'\n",
       "49. 'S2coas_20181023.tif'\n",
       "50. 'S2coas_20181112.tif'\n",
       "51. 'S2coas_20181117.tif'\n",
       "52. 'S2coas_20181207.tif'\n",
       "53. 'S2coas_20181212.tif'\n",
       "54. 'S2coas_20181227.tif'\n",
       "55. 'S2coas_20190126.tif'\n",
       "56. 'S2coas_20190131.tif'\n",
       "57. 'S2coas_20190215.tif'\n",
       "58. 'S2coas_20190220.tif'\n",
       "59. 'S2coas_20190225.tif'\n",
       "60. 'S2coas_20190302.tif'\n",
       "61. 'S2coas_20190312.tif'\n",
       "62. 'S2coas_20190317.tif'\n",
       "63. 'S2coas_20190322.tif'\n",
       "64. 'S2coas_20190401.tif'\n",
       "65. 'S2coas_20190416.tif'\n",
       "66. 'S2coas_20190531.tif'\n",
       "67. 'S2coas_20190605.tif'\n",
       "68. 'S2coas_20190615.tif'\n",
       "69. 'S2coas_20190625.tif'\n",
       "70. 'S2coas_20190630.tif'\n",
       "71. 'S2coas_20190705.tif'\n",
       "72. 'S2coas_20190720.tif'\n",
       "73. 'S2coas_20190725.tif'\n",
       "74. 'S2coas_20190730.tif'\n",
       "75. 'S2coas_20190804.tif'\n",
       "76. 'S2coas_20190809.tif'\n",
       "77. 'S2coas_20190819.tif'\n",
       "78. 'S2coas_20190824.tif'\n",
       "79. 'S2coas_20190829.tif'\n",
       "80. 'S2coas_20190908.tif'\n",
       "81. 'S2coas_20190913.tif'\n",
       "82. 'S2coas_20190918.tif'\n",
       "83. 'S2coas_20191008.tif'\n",
       "84. 'S2coas_20191107.tif'\n",
       "85. 'S2coas_20191207.tif'\n",
       "86. 'S2coas_20200101.tif'\n",
       "87. 'S2coas_20200121.tif'\n",
       "88. 'S2coas_20200215.tif'\n",
       "89. 'S2coas_20200220.tif'\n",
       "90. 'S2coas_20200306.tif'\n",
       "91. 'S2coas_20200311.tif'\n",
       "92. 'S2coas_20200316.tif'\n",
       "93. 'S2coas_20200321.tif'\n",
       "\n",
       "\n"
      ],
      "text/plain": [
       " [1] \"S2coas_20170421.tif\" \"S2coas_20170501.tif\" \"S2coas_20170531.tif\"\n",
       " [4] \"S2coas_20170620.tif\" \"S2coas_20170710.tif\" \"S2coas_20170720.tif\"\n",
       " [7] \"S2coas_20170730.tif\" \"S2coas_20170809.tif\" \"S2coas_20170819.tif\"\n",
       "[10] \"S2coas_20170829.tif\" \"S2coas_20170918.tif\" \"S2coas_20171008.tif\"\n",
       "[13] \"S2coas_20171018.tif\" \"S2coas_20171028.tif\" \"S2coas_20171127.tif\"\n",
       "[16] \"S2coas_20171207.tif\" \"S2coas_20171222.tif\" \"S2coas_20180121.tif\"\n",
       "[19] \"S2coas_20180215.tif\" \"S2coas_20180406.tif\" \"S2coas_20180421.tif\"\n",
       "[22] \"S2coas_20180426.tif\" \"S2coas_20180516.tif\" \"S2coas_20180521.tif\"\n",
       "[25] \"S2coas_20180526.tif\" \"S2coas_20180531.tif\" \"S2coas_20180610.tif\"\n",
       "[28] \"S2coas_20180615.tif\" \"S2coas_20180620.tif\" \"S2coas_20180630.tif\"\n",
       "[31] \"S2coas_20180705.tif\" \"S2coas_20180710.tif\" \"S2coas_20180715.tif\"\n",
       "[34] \"S2coas_20180720.tif\" \"S2coas_20180725.tif\" \"S2coas_20180730.tif\"\n",
       "[37] \"S2coas_20180804.tif\" \"S2coas_20180809.tif\" \"S2coas_20180819.tif\"\n",
       "[40] \"S2coas_20180824.tif\" \"S2coas_20180829.tif\" \"S2coas_20180903.tif\"\n",
       "[43] \"S2coas_20180908.tif\" \"S2coas_20180918.tif\" \"S2coas_20180923.tif\"\n",
       "[46] \"S2coas_20180928.tif\" \"S2coas_20181003.tif\" \"S2coas_20181013.tif\"\n",
       "[49] \"S2coas_20181023.tif\" \"S2coas_20181112.tif\" \"S2coas_20181117.tif\"\n",
       "[52] \"S2coas_20181207.tif\" \"S2coas_20181212.tif\" \"S2coas_20181227.tif\"\n",
       "[55] \"S2coas_20190126.tif\" \"S2coas_20190131.tif\" \"S2coas_20190215.tif\"\n",
       "[58] \"S2coas_20190220.tif\" \"S2coas_20190225.tif\" \"S2coas_20190302.tif\"\n",
       "[61] \"S2coas_20190312.tif\" \"S2coas_20190317.tif\" \"S2coas_20190322.tif\"\n",
       "[64] \"S2coas_20190401.tif\" \"S2coas_20190416.tif\" \"S2coas_20190531.tif\"\n",
       "[67] \"S2coas_20190605.tif\" \"S2coas_20190615.tif\" \"S2coas_20190625.tif\"\n",
       "[70] \"S2coas_20190630.tif\" \"S2coas_20190705.tif\" \"S2coas_20190720.tif\"\n",
       "[73] \"S2coas_20190725.tif\" \"S2coas_20190730.tif\" \"S2coas_20190804.tif\"\n",
       "[76] \"S2coas_20190809.tif\" \"S2coas_20190819.tif\" \"S2coas_20190824.tif\"\n",
       "[79] \"S2coas_20190829.tif\" \"S2coas_20190908.tif\" \"S2coas_20190913.tif\"\n",
       "[82] \"S2coas_20190918.tif\" \"S2coas_20191008.tif\" \"S2coas_20191107.tif\"\n",
       "[85] \"S2coas_20191207.tif\" \"S2coas_20200101.tif\" \"S2coas_20200121.tif\"\n",
       "[88] \"S2coas_20200215.tif\" \"S2coas_20200220.tif\" \"S2coas_20200306.tif\"\n",
       "[91] \"S2coas_20200311.tif\" \"S2coas_20200316.tif\" \"S2coas_20200321.tif\""
      ]
     },
     "metadata": {},
     "output_type": "display_data"
    }
   ],
   "source": [
    "list.files()"
   ]
  },
  {
   "cell_type": "code",
   "execution_count": 3,
   "id": "54515c4f-8e88-46ec-a656-5e3e6a8f8d40",
   "metadata": {},
   "outputs": [],
   "source": [
    "img_test<-\"S2coas_20170421\""
   ]
  },
  {
   "cell_type": "code",
   "execution_count": 4,
   "id": "e3216787-74e8-482a-9481-f4563fb99669",
   "metadata": {},
   "outputs": [
    {
     "ename": "ERROR",
     "evalue": "Error in readTIFF(img_test): unable to open S2coas_20170421\n",
     "output_type": "error",
     "traceback": [
      "Error in readTIFF(img_test): unable to open S2coas_20170421\nTraceback:\n",
      "1. readTIFF(img_test)"
     ]
    }
   ],
   "source": [
    "library (tiff)\n",
    "# read a sample file (R logo)\n",
    "img_test<-readTIFF(img_test)\n",
    "# read it also in native format\n",
    "#img.n <- readTIFF(img_test, native=TRUE)\n",
    "# read all contained images\n",
    "#str_img<-str(readTIFF(img_test, all=TRUE))"
   ]
  },
  {
   "cell_type": "code",
   "execution_count": null,
   "id": "4fd0867a-6f94-413f-bcc9-f3deb3eaf9eb",
   "metadata": {
    "tags": []
   },
   "outputs": [],
   "source": [
    "img_test"
   ]
  },
  {
   "cell_type": "code",
   "execution_count": null,
   "id": "850cf263-752d-4672-8100-12a8f2820981",
   "metadata": {},
   "outputs": [],
   "source": [
    "img.n "
   ]
  },
  {
   "cell_type": "code",
   "execution_count": null,
   "id": "a3909593-6d3c-461a-bec5-4386d9f15dd2",
   "metadata": {},
   "outputs": [],
   "source": [
    "str_img"
   ]
  },
  {
   "cell_type": "code",
   "execution_count": null,
   "id": "7744d3c4-a411-4232-a06c-b3eca9dad0a7",
   "metadata": {},
   "outputs": [],
   "source": []
  }
 ],
 "metadata": {
  "kernelspec": {
   "display_name": "R",
   "language": "R",
   "name": "ir"
  },
  "language_info": {
   "codemirror_mode": "r",
   "file_extension": ".r",
   "mimetype": "text/x-r-source",
   "name": "R",
   "pygments_lexer": "r",
   "version": "4.2.2"
  }
 },
 "nbformat": 4,
 "nbformat_minor": 5
}
