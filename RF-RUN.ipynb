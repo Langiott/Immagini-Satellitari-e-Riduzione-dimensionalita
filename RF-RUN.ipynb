{
 "cells": [
  {
   "cell_type": "code",
   "execution_count": 6,
   "id": "cd787a0c-dcbd-4963-a006-15456545e146",
   "metadata": {},
   "outputs": [
    {
     "name": "stderr",
     "output_type": "stream",
     "text": [
      "Caricamento del pacchetto richiesto: sp\n",
      "\n"
     ]
    }
   ],
   "source": [
    "library(raster)"
   ]
  },
  {
   "cell_type": "code",
   "execution_count": 8,
   "id": "6cc50eb0-bc6a-4a2f-b136-12b9b922bc08",
   "metadata": {},
   "outputs": [
    {
     "ename": "ERROR",
     "evalue": "Error in .local(x, ...): file.exists(extension(x, \".shx\")) non è TRUE\n",
     "output_type": "error",
     "traceback": [
      "Error in .local(x, ...): file.exists(extension(x, \".shx\")) non è TRUE\nTraceback:\n",
      "1. shapefile(RD.files)",
      "2. shapefile(RD.files)",
      "3. .local(x, ...)",
      "4. stopifnot(file.exists(extension(x, \".shx\")))"
     ]
    }
   ],
   "source": [
    "\n",
    "RD.files<- './DATA/Reference_Data.shp'\n",
    "RD <- shapefile(RD.files)"
   ]
  },
  {
   "cell_type": "code",
   "execution_count": null,
   "id": "519deb63-257a-4495-9b0b-c2f502581c7f",
   "metadata": {},
   "outputs": [],
   "source": []
  }
 ],
 "metadata": {
  "kernelspec": {
   "display_name": "R",
   "language": "R",
   "name": "ir"
  },
  "language_info": {
   "codemirror_mode": "r",
   "file_extension": ".r",
   "mimetype": "text/x-r-source",
   "name": "R",
   "pygments_lexer": "r",
   "version": "4.2.2"
  }
 },
 "nbformat": 4,
 "nbformat_minor": 5
}
