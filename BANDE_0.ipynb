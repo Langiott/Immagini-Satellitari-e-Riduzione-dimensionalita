{
 "cells": [
  {
   "cell_type": "code",
   "execution_count": 1,
   "id": "3a69f050-ae07-4807-845d-44b62bd55e6f",
   "metadata": {},
   "outputs": [
    {
     "data": {
      "text/html": [
       "'C:/Users/PC/A_Progetto1/TIMES_SERIE_BANDE/Bande'"
      ],
      "text/latex": [
       "'C:/Users/PC/A\\_Progetto1/TIMES\\_SERIE\\_BANDE/Bande'"
      ],
      "text/markdown": [
       "'C:/Users/PC/A_Progetto1/TIMES_SERIE_BANDE/Bande'"
      ],
      "text/plain": [
       "[1] \"C:/Users/PC/A_Progetto1/TIMES_SERIE_BANDE/Bande\""
      ]
     },
     "metadata": {},
     "output_type": "display_data"
    }
   ],
   "source": [
    "getwd()"
   ]
  },
  {
   "cell_type": "code",
   "execution_count": 2,
   "id": "28ab44be-318a-46da-ae99-819da484414a",
   "metadata": {
    "tags": []
   },
   "outputs": [],
   "source": [
    "setwd(\"C:/Users/PC/A_Progetto1/TIMES_SERIE_BANDE\")"
   ]
  },
  {
   "cell_type": "code",
   "execution_count": 3,
   "id": "b2ea441b-6cf8-4d4a-af1b-87a9b8a6e727",
   "metadata": {},
   "outputs": [],
   "source": [
    "percorsoCartella <-\"/Bande/Dati\"\n",
    "metodo <- \"bilinear\"\n",
    "delimiterFilePath <-\"\"\n",
    "shapefiledir <- \"\""
   ]
  },
  {
   "cell_type": "code",
   "execution_count": 4,
   "id": "40d34502-1232-4a4d-a138-c2c40056871e",
   "metadata": {},
   "outputs": [
    {
     "name": "stderr",
     "output_type": "stream",
     "text": [
      "Warning message in dir.create(dir.TS2):\n",
      "\"'\\WORK_FOLDER\\WORK' esiste già\"\n"
     ]
    }
   ],
   "source": [
    "dir.TS <- \"/WORK\"\n",
    "nomeCartella <- \"WORK\"\n",
    "dir.TS2 <- paste(dir.TS, nomeCartella, sep = '/')\n",
    "dir.create(dir.TS2)"
   ]
  },
  {
   "cell_type": "code",
   "execution_count": 5,
   "id": "bcf13095-d866-4ca7-8d0a-7f552fc3687b",
   "metadata": {},
   "outputs": [
    {
     "name": "stderr",
     "output_type": "stream",
     "text": [
      "Warning message in dir.create(dir.TS.cartella):\n",
      "\"'\\WORK_FOLDER\\WORK\\F00' esiste già\"\n"
     ]
    }
   ],
   "source": [
    "nomeCartella2 <- \"F00\"\n",
    "dir.TS.cartella <- paste(dir.TS2, nomeCartella2, sep =\"/\")\n",
    "dir.create(dir.TS.cartella)"
   ]
  },
  {
   "cell_type": "code",
   "execution_count": 6,
   "id": "c80dc7bc-2159-4bc6-a3de-9ef5c2570039",
   "metadata": {},
   "outputs": [],
   "source": [
    "var <- '11'\n",
    "bands <- c('11', '10','08','07','06','05','04','03','02')\n",
    "lambda <- c(490,560,665,705,740,783,842,1610,2190)"
   ]
  },
  {
   "cell_type": "code",
   "execution_count": null,
   "id": "e1164eac-9652-459b-a03e-37556686c5e1",
   "metadata": {},
   "outputs": [],
   "source": []
  }
 ],
 "metadata": {
  "kernelspec": {
   "display_name": "R",
   "language": "R",
   "name": "ir"
  },
  "language_info": {
   "codemirror_mode": "r",
   "file_extension": ".r",
   "mimetype": "text/x-r-source",
   "name": "R",
   "pygments_lexer": "r",
   "version": "4.2.2"
  }
 },
 "nbformat": 4,
 "nbformat_minor": 5
}
