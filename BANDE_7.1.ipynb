{
 "cells": [
  {
   "cell_type": "code",
   "execution_count": 1,
   "id": "2f19d667-84b0-4ba7-bfab-1b44e31585ad",
   "metadata": {
    "tags": []
   },
   "outputs": [],
   "source": [
    "path_wd <-getwd()"
   ]
  },
  {
   "cell_type": "code",
   "execution_count": 5,
   "id": "35c2be99-65ea-4685-953d-d7fc6adb0ad9",
   "metadata": {
    "collapsed": true,
    "jupyter": {
     "outputs_hidden": true
    },
    "tags": []
   },
   "outputs": [
    {
     "data": {
      "text/html": [
       "<style>\n",
       ".list-inline {list-style: none; margin:0; padding: 0}\n",
       ".list-inline>li {display: inline-block}\n",
       ".list-inline>li:not(:last-child)::after {content: \"\\00b7\"; padding: 0 .5ex}\n",
       "</style>\n",
       "<ol class=list-inline><li>'BANDE_0.ipynb'</li><li>'BANDE_1.ipynb'</li><li>'BANDE_2.ipynb'</li><li>'BANDE_3.ipynb'</li><li>'BANDE_4.ipynb'</li><li>'BANDE_5.ipynb'</li><li>'BANDE_6.ipynb'</li><li>'BANDE_7.ipynb'</li><li>'BANDE_8.ipynb'</li><li>'BANDE_9.ipynb'</li><li>'Dati'</li><li>'FOLD'</li><li>'ForesteConero.prj'</li><li>'ForesteConero.shp'</li><li>'ForesteConero.shx'</li><li>'Untitled.ipynb'</li><li>'WORK'</li></ol>\n"
      ],
      "text/latex": [
       "\\begin{enumerate*}\n",
       "\\item 'BANDE\\_0.ipynb'\n",
       "\\item 'BANDE\\_1.ipynb'\n",
       "\\item 'BANDE\\_2.ipynb'\n",
       "\\item 'BANDE\\_3.ipynb'\n",
       "\\item 'BANDE\\_4.ipynb'\n",
       "\\item 'BANDE\\_5.ipynb'\n",
       "\\item 'BANDE\\_6.ipynb'\n",
       "\\item 'BANDE\\_7.ipynb'\n",
       "\\item 'BANDE\\_8.ipynb'\n",
       "\\item 'BANDE\\_9.ipynb'\n",
       "\\item 'Dati'\n",
       "\\item 'FOLD'\n",
       "\\item 'ForesteConero.prj'\n",
       "\\item 'ForesteConero.shp'\n",
       "\\item 'ForesteConero.shx'\n",
       "\\item 'Untitled.ipynb'\n",
       "\\item 'WORK'\n",
       "\\end{enumerate*}\n"
      ],
      "text/markdown": [
       "1. 'BANDE_0.ipynb'\n",
       "2. 'BANDE_1.ipynb'\n",
       "3. 'BANDE_2.ipynb'\n",
       "4. 'BANDE_3.ipynb'\n",
       "5. 'BANDE_4.ipynb'\n",
       "6. 'BANDE_5.ipynb'\n",
       "7. 'BANDE_6.ipynb'\n",
       "8. 'BANDE_7.ipynb'\n",
       "9. 'BANDE_8.ipynb'\n",
       "10. 'BANDE_9.ipynb'\n",
       "11. 'Dati'\n",
       "12. 'FOLD'\n",
       "13. 'ForesteConero.prj'\n",
       "14. 'ForesteConero.shp'\n",
       "15. 'ForesteConero.shx'\n",
       "16. 'Untitled.ipynb'\n",
       "17. 'WORK'\n",
       "\n",
       "\n"
      ],
      "text/plain": [
       " [1] \"BANDE_0.ipynb\"     \"BANDE_1.ipynb\"     \"BANDE_2.ipynb\"    \n",
       " [4] \"BANDE_3.ipynb\"     \"BANDE_4.ipynb\"     \"BANDE_5.ipynb\"    \n",
       " [7] \"BANDE_6.ipynb\"     \"BANDE_7.ipynb\"     \"BANDE_8.ipynb\"    \n",
       "[10] \"BANDE_9.ipynb\"     \"Dati\"              \"FOLD\"             \n",
       "[13] \"ForesteConero.prj\" \"ForesteConero.shp\" \"ForesteConero.shx\"\n",
       "[16] \"Untitled.ipynb\"    \"WORK\"             "
      ]
     },
     "metadata": {},
     "output_type": "display_data"
    },
    {
     "name": "stderr",
     "output_type": "stream",
     "text": [
      "Warning message in dir.create(dir.TS):\n",
      "\"'C:\\Users\\PC\\A_Progetto1\\TIMES_SERIE_BANDE\\Bande\\WORK' esiste già\"\n",
      "Warning message in dir.create(dir.TS2):\n",
      "\"'C:\\Users\\PC\\A_Progetto1\\TIMES_SERIE_BANDE\\Bande\\WORK\\RASTER' esiste già\"\n"
     ]
    }
   ],
   "source": [
    "dir(path_wd )\n",
    "#Cartella_1\n",
    "nomeCartella <- \"WORK\"\n",
    "dir.TS<- paste(path_wd, nomeCartella, sep = '/')\n",
    "dir.create(dir.TS)\n",
    "#Cartella_2\n",
    "nomeCartella2 <- \"RASTER\"\n",
    "dir.TS2 <- paste(dir.TS, nomeCartella2, sep =\"/\")\n",
    "dir.create(dir.TS2)"
   ]
  },
  {
   "cell_type": "code",
   "execution_count": 19,
   "id": "bb7fa483-4cce-4b04-8a64-be0b81502f06",
   "metadata": {
    "collapsed": true,
    "jupyter": {
     "outputs_hidden": true
    },
    "tags": []
   },
   "outputs": [
    {
     "name": "stderr",
     "output_type": "stream",
     "text": [
      "Warning message:\n",
      "\"OGR support is provided by the sf and terra packages among others\"\n",
      "Warning message:\n",
      "\"OGR support is provided by the sf and terra packages among others\"\n",
      "Warning message:\n",
      "\"OGR support is provided by the sf and terra packages among others\"\n",
      "Warning message:\n",
      "\"OGR support is provided by the sf and terra packages among others\"\n",
      "Warning message in ogrInfo(dsn = dsn, layer = layer, encoding = encoding, use_iconv = use_iconv, :\n",
      "\"ogrInfo: C:/Users/PC/A_Progetto1/TIMES_SERIE_BANDE/Bande/ForesteConero.dbf not found\"\n",
      "Warning message:\n",
      "\"OGR support is provided by the sf and terra packages among others\"\n",
      "Warning message:\n",
      "\"OGR support is provided by the sf and terra packages among others\"\n",
      "Warning message:\n",
      "\"OGR support is provided by the sf and terra packages among others\"\n"
     ]
    },
    {
     "name": "stdout",
     "output_type": "stream",
     "text": [
      "OGR data source with driver: ESRI Shapefile \n",
      "Source: \"C:\\Users\\PC\\A_Progetto1\\TIMES_SERIE_BANDE\\Bande\\ForesteConero.shp\", layer: \"ForesteConero\"\n",
      "with 1 features\n",
      "It has 0 fields\n"
     ]
    }
   ],
   "source": [
    "library(raster)\n",
    "library(sf)\n",
    "library(rgdal)\n",
    "library(terra)\n",
    "library(rnaturalearth)\n",
    "library(lubridate)\n",
    "library(reshape2)\n",
    "library(tictoc)\n",
    "library(mgcv)\n",
    "percorso_shape <- 'C:/Users/PC/A_Progetto1/TIMES_SERIE_BANDE/Bande/ForesteConero.shp'\n",
    "file_shp<- readOGR(percorso_shape)"
   ]
  },
  {
   "cell_type": "code",
   "execution_count": 32,
   "id": "ce54e3df-25a4-4641-9730-885c4c8fa1a7",
   "metadata": {
    "tags": []
   },
   "outputs": [],
   "source": [
    "percorso_dati <- \"/Dati\"\n",
    "bands <- rev(c('11', '10','09','08','07','06','05','04','03','02','01'))\n",
    "#bands <- c('01')\n",
    "lambda <- c(490,560,665,705,740,783,842,1610,2190)\n",
    "var <- '01'\n",
    "for(var in bands)\n",
    "      {\n",
    "      var.nome <- paste('S2B',bands,sep='')\n",
    "      cartella <- paste(percorso_dati,var.nome,sep=\"/\")\n",
    "      v <-\"\"\n",
    "      percorso_master <- \"C:/Users/PC/A_Progetto1/TIMES_SERIE_BANDE/Bande\"\n",
    "      percorsi <- paste(cartella,v,sep = \"/\")\n",
    "      percorsi <- paste(percorso_master,percorsi,sep='')\n",
    "}"
   ]
  },
  {
   "cell_type": "code",
   "execution_count": 33,
   "id": "5cddb0e2-7984-46c5-894a-1dea327f898f",
   "metadata": {},
   "outputs": [
    {
     "data": {
      "text/html": [
       "<style>\n",
       ".list-inline {list-style: none; margin:0; padding: 0}\n",
       ".list-inline>li {display: inline-block}\n",
       ".list-inline>li:not(:last-child)::after {content: \"\\00b7\"; padding: 0 .5ex}\n",
       "</style>\n",
       "<ol class=list-inline><li>'C:/Users/PC/A_Progetto1/TIMES_SERIE_BANDE/Bande/Dati/S2B01/'</li><li>'C:/Users/PC/A_Progetto1/TIMES_SERIE_BANDE/Bande/Dati/S2B02/'</li><li>'C:/Users/PC/A_Progetto1/TIMES_SERIE_BANDE/Bande/Dati/S2B03/'</li><li>'C:/Users/PC/A_Progetto1/TIMES_SERIE_BANDE/Bande/Dati/S2B04/'</li><li>'C:/Users/PC/A_Progetto1/TIMES_SERIE_BANDE/Bande/Dati/S2B05/'</li><li>'C:/Users/PC/A_Progetto1/TIMES_SERIE_BANDE/Bande/Dati/S2B06/'</li><li>'C:/Users/PC/A_Progetto1/TIMES_SERIE_BANDE/Bande/Dati/S2B07/'</li><li>'C:/Users/PC/A_Progetto1/TIMES_SERIE_BANDE/Bande/Dati/S2B08/'</li><li>'C:/Users/PC/A_Progetto1/TIMES_SERIE_BANDE/Bande/Dati/S2B09/'</li><li>'C:/Users/PC/A_Progetto1/TIMES_SERIE_BANDE/Bande/Dati/S2B10/'</li><li>'C:/Users/PC/A_Progetto1/TIMES_SERIE_BANDE/Bande/Dati/S2B11/'</li></ol>\n"
      ],
      "text/latex": [
       "\\begin{enumerate*}\n",
       "\\item 'C:/Users/PC/A\\_Progetto1/TIMES\\_SERIE\\_BANDE/Bande/Dati/S2B01/'\n",
       "\\item 'C:/Users/PC/A\\_Progetto1/TIMES\\_SERIE\\_BANDE/Bande/Dati/S2B02/'\n",
       "\\item 'C:/Users/PC/A\\_Progetto1/TIMES\\_SERIE\\_BANDE/Bande/Dati/S2B03/'\n",
       "\\item 'C:/Users/PC/A\\_Progetto1/TIMES\\_SERIE\\_BANDE/Bande/Dati/S2B04/'\n",
       "\\item 'C:/Users/PC/A\\_Progetto1/TIMES\\_SERIE\\_BANDE/Bande/Dati/S2B05/'\n",
       "\\item 'C:/Users/PC/A\\_Progetto1/TIMES\\_SERIE\\_BANDE/Bande/Dati/S2B06/'\n",
       "\\item 'C:/Users/PC/A\\_Progetto1/TIMES\\_SERIE\\_BANDE/Bande/Dati/S2B07/'\n",
       "\\item 'C:/Users/PC/A\\_Progetto1/TIMES\\_SERIE\\_BANDE/Bande/Dati/S2B08/'\n",
       "\\item 'C:/Users/PC/A\\_Progetto1/TIMES\\_SERIE\\_BANDE/Bande/Dati/S2B09/'\n",
       "\\item 'C:/Users/PC/A\\_Progetto1/TIMES\\_SERIE\\_BANDE/Bande/Dati/S2B10/'\n",
       "\\item 'C:/Users/PC/A\\_Progetto1/TIMES\\_SERIE\\_BANDE/Bande/Dati/S2B11/'\n",
       "\\end{enumerate*}\n"
      ],
      "text/markdown": [
       "1. 'C:/Users/PC/A_Progetto1/TIMES_SERIE_BANDE/Bande/Dati/S2B01/'\n",
       "2. 'C:/Users/PC/A_Progetto1/TIMES_SERIE_BANDE/Bande/Dati/S2B02/'\n",
       "3. 'C:/Users/PC/A_Progetto1/TIMES_SERIE_BANDE/Bande/Dati/S2B03/'\n",
       "4. 'C:/Users/PC/A_Progetto1/TIMES_SERIE_BANDE/Bande/Dati/S2B04/'\n",
       "5. 'C:/Users/PC/A_Progetto1/TIMES_SERIE_BANDE/Bande/Dati/S2B05/'\n",
       "6. 'C:/Users/PC/A_Progetto1/TIMES_SERIE_BANDE/Bande/Dati/S2B06/'\n",
       "7. 'C:/Users/PC/A_Progetto1/TIMES_SERIE_BANDE/Bande/Dati/S2B07/'\n",
       "8. 'C:/Users/PC/A_Progetto1/TIMES_SERIE_BANDE/Bande/Dati/S2B08/'\n",
       "9. 'C:/Users/PC/A_Progetto1/TIMES_SERIE_BANDE/Bande/Dati/S2B09/'\n",
       "10. 'C:/Users/PC/A_Progetto1/TIMES_SERIE_BANDE/Bande/Dati/S2B10/'\n",
       "11. 'C:/Users/PC/A_Progetto1/TIMES_SERIE_BANDE/Bande/Dati/S2B11/'\n",
       "\n",
       "\n"
      ],
      "text/plain": [
       " [1] \"C:/Users/PC/A_Progetto1/TIMES_SERIE_BANDE/Bande/Dati/S2B01/\"\n",
       " [2] \"C:/Users/PC/A_Progetto1/TIMES_SERIE_BANDE/Bande/Dati/S2B02/\"\n",
       " [3] \"C:/Users/PC/A_Progetto1/TIMES_SERIE_BANDE/Bande/Dati/S2B03/\"\n",
       " [4] \"C:/Users/PC/A_Progetto1/TIMES_SERIE_BANDE/Bande/Dati/S2B04/\"\n",
       " [5] \"C:/Users/PC/A_Progetto1/TIMES_SERIE_BANDE/Bande/Dati/S2B05/\"\n",
       " [6] \"C:/Users/PC/A_Progetto1/TIMES_SERIE_BANDE/Bande/Dati/S2B06/\"\n",
       " [7] \"C:/Users/PC/A_Progetto1/TIMES_SERIE_BANDE/Bande/Dati/S2B07/\"\n",
       " [8] \"C:/Users/PC/A_Progetto1/TIMES_SERIE_BANDE/Bande/Dati/S2B08/\"\n",
       " [9] \"C:/Users/PC/A_Progetto1/TIMES_SERIE_BANDE/Bande/Dati/S2B09/\"\n",
       "[10] \"C:/Users/PC/A_Progetto1/TIMES_SERIE_BANDE/Bande/Dati/S2B10/\"\n",
       "[11] \"C:/Users/PC/A_Progetto1/TIMES_SERIE_BANDE/Bande/Dati/S2B11/\""
      ]
     },
     "metadata": {},
     "output_type": "display_data"
    }
   ],
   "source": [
    "percorsi"
   ]
  },
  {
   "cell_type": "code",
   "execution_count": null,
   "id": "083db0d8-9717-4125-9631-531803ddbeba",
   "metadata": {},
   "outputs": [],
   "source": []
  }
 ],
 "metadata": {
  "kernelspec": {
   "display_name": "R",
   "language": "R",
   "name": "ir"
  },
  "language_info": {
   "codemirror_mode": "r",
   "file_extension": ".r",
   "mimetype": "text/x-r-source",
   "name": "R",
   "pygments_lexer": "r",
   "version": "4.2.2"
  }
 },
 "nbformat": 4,
 "nbformat_minor": 5
}
