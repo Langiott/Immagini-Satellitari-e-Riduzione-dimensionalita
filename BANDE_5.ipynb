{
 "cells": [
  {
   "cell_type": "code",
   "execution_count": 9,
   "id": "7bfdf847-839b-459f-9c94-33009bf3717b",
   "metadata": {},
   "outputs": [
    {
     "data": {
      "text/html": [
       "'C:/Users/PC/A_Progetto1/TIMES_SERIE_BANDE/Bande'"
      ],
      "text/latex": [
       "'C:/Users/PC/A\\_Progetto1/TIMES\\_SERIE\\_BANDE/Bande'"
      ],
      "text/markdown": [
       "'C:/Users/PC/A_Progetto1/TIMES_SERIE_BANDE/Bande'"
      ],
      "text/plain": [
       "[1] \"C:/Users/PC/A_Progetto1/TIMES_SERIE_BANDE/Bande\""
      ]
     },
     "metadata": {},
     "output_type": "display_data"
    }
   ],
   "source": [
    "getwd()"
   ]
  },
  {
   "cell_type": "code",
   "execution_count": 10,
   "id": "5fa7c2f3-9816-4f57-a438-c5408764a517",
   "metadata": {},
   "outputs": [],
   "source": [
    "#Prelevo nella cartella Bands/Dati/S2B02\n",
    "percorsoCartella <-'C:/Users/PC/A_Progetto1/TIMES_SERIE_BANDE/Bande/Dati/S2B01'\n",
    "filename <- basename(percorsoCartella)\n",
    "cartella<- paste(percorsoCartella,filename,sep='')\n",
    "file_list <- list.files(cartella)"
   ]
  },
  {
   "cell_type": "code",
   "execution_count": 11,
   "id": "43b3d996-18ce-45ea-afb1-4279271b6a3f",
   "metadata": {},
   "outputs": [
    {
     "data": {
      "text/html": [
       "<table class=\"dataframe\">\n",
       "<caption>A data.frame: 0 × 2</caption>\n",
       "<thead>\n",
       "\t<tr><th scope=col>items</th><th scope=col>week_num</th></tr>\n",
       "\t<tr><th scope=col>&lt;chr&gt;</th><th scope=col>&lt;int&gt;</th></tr>\n",
       "</thead>\n",
       "<tbody>\n",
       "</tbody>\n",
       "</table>\n"
      ],
      "text/latex": [
       "A data.frame: 0 × 2\n",
       "\\begin{tabular}{ll}\n",
       " items & week\\_num\\\\\n",
       " <chr> & <int>\\\\\n",
       "\\hline\n",
       "\\end{tabular}\n"
      ],
      "text/markdown": [
       "\n",
       "A data.frame: 0 × 2\n",
       "\n",
       "| items &lt;chr&gt; | week_num &lt;int&gt; |\n",
       "|---|---|\n",
       "\n"
      ],
      "text/plain": [
       "     items week_num"
      ]
     },
     "metadata": {},
     "output_type": "display_data"
    }
   ],
   "source": [
    "library(lubridate)\n",
    "for(i in length(file_list)){\n",
    "items <- file_list[i]\n",
    "# Estrai la data da ogni nome di immagine\n",
    "date <- substr(items, 8, 15)\n",
    "\n",
    "# Converti la data in un formato leggibile da R\n",
    "date <- ymd(date)\n",
    "\n",
    "# Estrai il numero della settimana per ogni data\n",
    "week_num <- week(date)\n",
    "    \n",
    "# Crea un data frame con i nomi delle immagini e il numero della settimana corrispondente\n",
    "df <- data.frame(items, week_num)\n",
    "    \n",
    "# Ordina il data frame per numero di settimana\n",
    "df <- df[order(df$week_num),]\n",
    "    \n",
    "# Assegna un numero di settimana univoco a ciascuna settimana\n",
    "df$week_num <- match(df$week_num, unique(df$week_num))\n",
    "}\n",
    "df"
   ]
  },
  {
   "cell_type": "code",
   "execution_count": null,
   "id": "ca1b0efc-351a-41bc-894c-ed75df0fee7e",
   "metadata": {},
   "outputs": [],
   "source": []
  }
 ],
 "metadata": {
  "kernelspec": {
   "display_name": "R",
   "language": "R",
   "name": "ir"
  },
  "language_info": {
   "codemirror_mode": "r",
   "file_extension": ".r",
   "mimetype": "text/x-r-source",
   "name": "R",
   "pygments_lexer": "r",
   "version": "4.2.2"
  }
 },
 "nbformat": 4,
 "nbformat_minor": 5
}
